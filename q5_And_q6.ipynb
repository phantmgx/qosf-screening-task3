{
  "nbformat": 4,
  "nbformat_minor": 0,
  "metadata": {
    "colab": {
      "provenance": []
    },
    "kernelspec": {
      "name": "python3",
      "display_name": "Python 3"
    },
    "language_info": {
      "name": "python"
    }
  },
  "cells": [
    {
      "cell_type": "markdown",
      "source": [
        "# Question 5: Differences Between Shor and Steane (Hamming) Codes\n",
        "\n",
        "## Parameters and Encoding\n",
        "- **Shor Code [[9,1,3]]**: Encodes 1 logical qubit into 9 physical qubits with distance 3\n",
        "- **Steane Code [[7,1,3]]**: Encodes 1 logical qubit into 7 physical qubits with distance 3  \n",
        "- Steane achieves same error protection with 22% fewer physical qubits\n",
        "\n",
        "## Code Construction Method\n",
        "- **Shor Code**: Concatenated construction combining 3-qubit phase-flip code with 3-qubit bit-flip repetition code in two stages\n",
        "- **Steane Code**: CSS (Calderbank-Shor-Steane) construction derived from classical [7,4,3] Hamming code\n",
        "- Encoding: Shor uses two-stage sequential approach; Steane uses unified CSS framework\n",
        "\n",
        "## Stabilizer Structure  \n",
        "- **Shor Code**: 8 stabilizer generators (6 X-type for Z error detection, 2 Z-type for X error detection)\n",
        "- **Steane Code**: 6 stabilizer generators (3 X-type, 3 Z-type) with symmetric structure\n",
        "- Steane's balanced structure enables transversal logical gate implementation\n",
        "\n",
        "## Performance in Implementation\n",
        "- Both codes corrected 100% of single-qubit errors (X, Y, Z) in our tests\n",
        "- Circuit depth: Shor required more gates and deeper circuits\n",
        "- Steane demonstrated better resource efficiency with equivalent error protection\n"
      ],
      "metadata": {
        "id": "3i0h3kva9J83"
      }
    },
    {
      "cell_type": "markdown",
      "source": [
        "# Question 6: Challenges Encountered in Building Error-Correcting Codes\n",
        "\n",
        "## 1. No-Cloning Theorem\n",
        "Cannot directly copy quantum states. Required using CNOT-based entanglement spreading for encoding rather than naive state duplication in all codes (repetition, Shor, Steane).\n",
        "\n",
        "## 2. Measurement Backaction\n",
        "Direct measurement collapses the encoded state. Implemented ancilla-based syndrome extraction (8 ancillas for Shor, 6 for Steane) to preserve data qubits during error detection.\n",
        "\n",
        "## 3. Invisible Phase Errors\n",
        "Z errors don't appear in computational-basis measurements. The 3-qubit repetition code only handles X errors. Extended to Shor code with Hadamard-basis encoding to detect both X and Z errors.\n",
        "\n",
        "## 4. Circuit Depth vs Noise Trade-off\n",
        "Deeper circuits introduce more gate errors. Balancing comprehensive error correction (Shor's 17 qubits, depth 31) against increased complexity and noise accumulation required careful design.\n",
        "\n",
        "## 5. Syndrome-to-Error Mapping Complexity\n",
        "Correct syndrome interpretation was critical. Initial Steane implementation had 0% X error correction due to improper data qubit disentanglement. Required fixing syndrome bit ordering and conditional correction logic to achieve 100% success.\n",
        "\n",
        "## 6. Custom Noise Model Integration\n",
        "Developed `simple_noise_model(x_prob, z_prob, circuit)` applying probabilistic Pauli errors. Required careful placement between encoding and syndrome measurement stages.\n",
        "\n",
        "## 7. Comprehensive Testing and Validation\n",
        "Automated testing across multiple noise levels (0%-20%) and error types (X, Y, Z) on all qubit positions. Needed 1000 trials per scenario to achieve statistically significant results (>95% target).\n",
        "\n",
        "## 8. Data Qubit Entanglement Management\n",
        "In Steane code, ensuring proper reversal of data-code qubit entanglement during decoding was essential. Missing this caused complete failure until implementing proper CNOT unwinding sequence.\n"
      ],
      "metadata": {
        "id": "_PKZIrt19QuK"
      }
    }
  ]
}